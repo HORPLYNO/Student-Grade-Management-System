{
 "cells": [
  {
   "cell_type": "markdown",
   "metadata": {},
   "source": [
    "##### Python Assignment: Student Grade Management System\n",
    "\n",
    "---\n",
    "<center>Problem: Write a Python program that allows a teacher to manage student grades. The program should perform the following tasks: </center>\n",
    "\n",
    "* Add a new student: The teacher can input a student's name and their grades for three subjects (e.g., Math, Science, English). Store the student’s information in a list of dictionaries. <br>\n",
    "\n",
    "* Display student details: The teacher can view the details of all students, including their names, grades, total marks, and average grade. <br>\n",
    "\n",
    "* Find the top student: Identify the student with the highest total marks. <br>\n",
    "\n",
    "* Calculate the class average: Compute and display the average marks for the class across all students. <br>"
   ]
  },
  {
   "cell_type": "code",
   "execution_count": 1,
   "metadata": {},
   "outputs": [],
   "source": [
    "def grade(grd):\n",
    "    if grd >= 70:\n",
    "        return(\"A\")\n",
    "    elif grd <70 and grd >=60:\n",
    "        return(\"B\")\n",
    "    elif grd < 60 and grd >=45:\n",
    "        return('c')\n",
    "    elif grd < 45 and grd >= 40:\n",
    "         return(\"D\")\n",
    "    elif grd < 40 and grd >= 30:\n",
    "         return(\"E\")\n",
    "    else:\n",
    "        return(\"F\")\n",
    "\n",
    "    return(grd)"
   ]
  },
  {
   "cell_type": "code",
   "execution_count": null,
   "metadata": {},
   "outputs": [],
   "source": []
  },
  {
   "cell_type": "code",
   "execution_count": 17,
   "metadata": {},
   "outputs": [],
   "source": [
    "# create a program that will allow the teacher to add and store result\n",
    "Students_details = []# where results would be stored\n",
    "def Add_to_record():\n",
    "    \n",
    "    Name= input(\"Enter student name: \")\n",
    "    Math_grade= int(input(\"Enter math score \"))\n",
    "    Eng_grade = int(input(\"Enter English score \"))\n",
    "    Science_grade = int(input(\"Enter science score \"))\n",
    "    Total_Marks = (Math_grade + Eng_grade +  Science_grade)\n",
    "    Average = (Total_Marks //3 )\n",
    "    \n",
    "    student_info= {\"Student_name\": Name,\n",
    "                   \"Maths_grade\":Math_grade, \n",
    "                    \"English_grade\":Eng_grade, \n",
    "                    \"Sci_grade\":Science_grade,\n",
    "                    \"Total_marks\":Total_Marks,\n",
    "                    \"Average_grade\": Average, \n",
    "                    \"Grade_point\": grade(Average)}\n",
    "    Students_details.append(student_info)\n",
    "    print()\n",
    "    print(\"Record added sucessfully. Full description below:\\n\",student_info)\n",
    "    Question = input(\"Add another record? (y/n)\")\n",
    "    if Question.upper() == \"Y\":\n",
    "        Add_to_record()\n",
    "    else:\n",
    "        print(\"Bye\")"
   ]
  },
  {
   "cell_type": "code",
   "execution_count": 18,
   "metadata": {},
   "outputs": [
    {
     "name": "stdout",
     "output_type": "stream",
     "text": [
      "Enter student name: ayo\n",
      "Enter math score 70\n",
      "Enter English score 60\n",
      "Enter science score 80\n",
      "\n",
      "Record added sucessfully. Full description below:\n",
      " {'Student_name': 'ayo', 'Maths_grade': 70, 'English_grade': 60, 'Sci_grade': 80, 'Total_marks': 210, 'Average_grade': 70, 'Grade_point': 'A'}\n",
      "Add another record? (y/n)y\n",
      "Enter student name: jeff\n",
      "Enter math score 80\n",
      "Enter English score 80\n",
      "Enter science score 80\n",
      "\n",
      "Record added sucessfully. Full description below:\n",
      " {'Student_name': 'jeff', 'Maths_grade': 80, 'English_grade': 80, 'Sci_grade': 80, 'Total_marks': 240, 'Average_grade': 80, 'Grade_point': 'A'}\n",
      "Add another record? (y/n)n\n",
      "Bye\n"
     ]
    }
   ],
   "source": [
    "#testing our function\n",
    "Add_to_record()"
   ]
  },
  {
   "cell_type": "code",
   "execution_count": 20,
   "metadata": {},
   "outputs": [
    {
     "data": {
      "text/plain": [
       "[{'Student_name': 'ayo',\n",
       "  'Maths_grade': 70,\n",
       "  'English_grade': 60,\n",
       "  'Sci_grade': 80,\n",
       "  'Total_marks': 210,\n",
       "  'Average_grade': 70,\n",
       "  'Grade_point': 'A'},\n",
       " {'Student_name': 'jeff',\n",
       "  'Maths_grade': 80,\n",
       "  'English_grade': 80,\n",
       "  'Sci_grade': 80,\n",
       "  'Total_marks': 240,\n",
       "  'Average_grade': 80,\n",
       "  'Grade_point': 'A'}]"
      ]
     },
     "execution_count": 20,
     "metadata": {},
     "output_type": "execute_result"
    }
   ],
   "source": [
    "Students_details"
   ]
  },
  {
   "cell_type": "code",
   "execution_count": 21,
   "metadata": {},
   "outputs": [],
   "source": [
    "# Creating a function that checks the top student\n",
    "def top_student():\n",
    "    if Students_details:\n",
    "        top_student = Students_details[0]\n",
    "        for b in Students_details:\n",
    "            if b['Total_marks']> top_student['Total_marks']:\n",
    "                top_student = b\n",
    "        print(f\"Top Student: {top_student['Student_name']}\")\n",
    "        print(f\"Top Mark: {top_student['Total_marks']}\")\n",
    "    else:\n",
    "        print(\"No students added yet.\")"
   ]
  },
  {
   "cell_type": "code",
   "execution_count": 22,
   "metadata": {},
   "outputs": [
    {
     "data": {
      "text/plain": [
       "{'Student_name': 'ayo',\n",
       " 'Maths_grade': 70,\n",
       " 'English_grade': 60,\n",
       " 'Sci_grade': 80,\n",
       " 'Total_marks': 210,\n",
       " 'Average_grade': 70,\n",
       " 'Grade_point': 'A'}"
      ]
     },
     "execution_count": 22,
     "metadata": {},
     "output_type": "execute_result"
    }
   ],
   "source": [
    "Students_details[0]"
   ]
  },
  {
   "cell_type": "code",
   "execution_count": 7,
   "metadata": {},
   "outputs": [
    {
     "name": "stdout",
     "output_type": "stream",
     "text": [
      "not empty\n"
     ]
    }
   ],
   "source": [
    "studentsx = ['ayo']\n",
    "\n",
    "if studentsx:\n",
    "    print('not empty')\n",
    "else:\n",
    "    print('empty')\n"
   ]
  },
  {
   "cell_type": "code",
   "execution_count": 8,
   "metadata": {},
   "outputs": [
    {
     "name": "stdout",
     "output_type": "stream",
     "text": [
      "not empty\n"
     ]
    }
   ],
   "source": [
    "studentsx = ['ayo']\n",
    "\n",
    "if len(studentsx) > 0:\n",
    "    print('not empty')\n",
    "else:\n",
    "    print('empty')"
   ]
  },
  {
   "cell_type": "code",
   "execution_count": 16,
   "metadata": {},
   "outputs": [
    {
     "name": "stdout",
     "output_type": "stream",
     "text": [
      "Top Student: jeff\n",
      "Top Mark: 240\n"
     ]
    }
   ],
   "source": [
    "top_student()"
   ]
  },
  {
   "cell_type": "code",
   "execution_count": 25,
   "metadata": {},
   "outputs": [],
   "source": [
    "def class_average():\n",
    "    total_marks = 0\n",
    "    for record in Students_details:\n",
    "        total_marks += record['Total_marks']\n",
    "    class_avg = total_marks // len(Students_details)\n",
    "    print(\"The class average is:\", class_avg)\n"
   ]
  },
  {
   "cell_type": "code",
   "execution_count": 26,
   "metadata": {},
   "outputs": [
    {
     "name": "stdout",
     "output_type": "stream",
     "text": [
      "The class average is: 225\n"
     ]
    }
   ],
   "source": [
    "class_average()"
   ]
  },
  {
   "cell_type": "code",
   "execution_count": 18,
   "metadata": {},
   "outputs": [],
   "source": [
    "def overall():\n",
    "    Que2 = int(input(\"Enter 5 to view all students record\\nEnter 6 to check top student\\nEnter 7 to check class average\"))\n",
    "    if Que2 == 5:\n",
    "        print()\n",
    "        print(Students_details)\n",
    "    if Que2 == 6:\n",
    "        print()\n",
    "        top_student()\n",
    "    if Que2 == 7:\n",
    "        print()\n",
    "        class_average()\n",
    "    else:\n",
    "        print(\"invalid input\")"
   ]
  },
  {
   "cell_type": "code",
   "execution_count": 19,
   "metadata": {},
   "outputs": [
    {
     "name": "stdout",
     "output_type": "stream",
     "text": [
      "Enter 5 to view all students record\n",
      "Enter 6 to check top student\n",
      "Enter 7 to check class average6\n",
      "\n",
      "Top Student: ayo\n",
      "Top Mark: 288\n",
      "invalid input\n"
     ]
    }
   ],
   "source": [
    "overall()"
   ]
  },
  {
   "cell_type": "code",
   "execution_count": 20,
   "metadata": {},
   "outputs": [
    {
     "name": "stdout",
     "output_type": "stream",
     "text": [
      "Enter 5 to view all students record\n",
      "Enter 6 to check top student\n",
      "Enter 7 to check class average7\n",
      "\n",
      "The class average is: 226\n"
     ]
    }
   ],
   "source": [
    "overall()"
   ]
  },
  {
   "cell_type": "code",
   "execution_count": 22,
   "metadata": {},
   "outputs": [
    {
     "name": "stdout",
     "output_type": "stream",
     "text": [
      "Enter 5 to view all students record\n",
      "Enter 6 to check top student\n",
      "Enter 7 to check class average5\n",
      "\n",
      "[{'Student_name': 'ope', 'Maths_grade': 98, 'English_grade': 67, 'Sci_grade': 65, 'Total_marks': 230, 'Average_grade': 76, 'Grade_point': 'A'}, {'Student_name': 'ayo', 'Maths_grade': 98, 'English_grade': 96, 'Sci_grade': 94, 'Total_marks': 288, 'Average_grade': 96, 'Grade_point': 'A'}, {'Student_name': 'ola', 'Maths_grade': 45, 'English_grade': 79, 'Sci_grade': 94, 'Total_marks': 218, 'Average_grade': 72, 'Grade_point': 'A'}, {'Student_name': 'ayoka', 'Maths_grade': 56, 'English_grade': 78, 'Sci_grade': 92, 'Total_marks': 226, 'Average_grade': 75, 'Grade_point': 'A'}, {'Student_name': 'Amani', 'Maths_grade': 98, 'English_grade': 94, 'Sci_grade': 96, 'Total_marks': 288, 'Average_grade': 96, 'Grade_point': 'A'}, {'Student_name': 'Ajoke', 'Maths_grade': 56, 'English_grade': 54, 'Sci_grade': 23, 'Total_marks': 133, 'Average_grade': 44, 'Grade_point': 'D'}, {'Student_name': 'oyin', 'Maths_grade': 45, 'English_grade': 67, 'Sci_grade': 89, 'Total_marks': 201, 'Average_grade': 67, 'Grade_point': 'B'}]\n",
      "invalid input\n"
     ]
    }
   ],
   "source": [
    "overall()"
   ]
  },
  {
   "cell_type": "code",
   "execution_count": null,
   "metadata": {},
   "outputs": [],
   "source": []
  }
 ],
 "metadata": {
  "kernelspec": {
   "display_name": "Python 3",
   "language": "python",
   "name": "python3"
  },
  "language_info": {
   "codemirror_mode": {
    "name": "ipython",
    "version": 3
   },
   "file_extension": ".py",
   "mimetype": "text/x-python",
   "name": "python",
   "nbconvert_exporter": "python",
   "pygments_lexer": "ipython3",
   "version": "3.8.5"
  }
 },
 "nbformat": 4,
 "nbformat_minor": 4
}
